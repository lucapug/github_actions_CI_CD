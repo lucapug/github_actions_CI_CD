{
  "cells": [
    {
      "cell_type": "code",
      "source": [
        "import os\n",
        "from pathlib import Path\n",
        "\n",
        "import matplotlib.pyplot as plt\n",
        "import pandas as pd\n",
        "import seaborn as sns\n",
        "from sklearn.ensemble import RandomForestClassifier\n",
        "from sklearn.impute import SimpleImputer\n",
        "from sklearn.metrics import (confusion_matrix, f1_score, make_scorer,roc_auc_score)\n",
        "from sklearn.model_selection import train_test_split\n",
        "from sklearn.pipeline import Pipeline\n"
      ],
      "outputs": [],
      "execution_count": null,
      "metadata": {},
      "id": "impaired-stylus"
    },
    {
      "cell_type": "code",
      "source": [
        "data_file_paths = [f'Churn_Modelling_{country}.csv'  for country in ['Spain', 'France']]"
      ],
      "outputs": [],
      "execution_count": null,
      "metadata": {},
      "id": "accepting-wallet"
    },
    {
      "cell_type": "code",
      "source": [
        "df = pd.concat([pd.read_csv(fpath) for fpath in data_file_paths])\n",
        "df.head()"
      ],
      "outputs": [],
      "execution_count": null,
      "metadata": {},
      "id": "continued-juvenile"
    },
    {
      "cell_type": "code",
      "source": [
        "df.shape"
      ],
      "outputs": [],
      "execution_count": null,
      "metadata": {},
      "id": "bb0d9f24"
    },
    {
      "cell_type": "code",
      "source": [
        "# Are there missing values?\n",
        "df.isna().sum()"
      ],
      "outputs": [],
      "execution_count": null,
      "metadata": {},
      "id": "unnecessary-roots"
    },
    {
      "cell_type": "code",
      "source": [
        "df['Geography'].value_counts()"
      ],
      "outputs": [],
      "execution_count": null,
      "metadata": {},
      "id": "b025ccce"
    },
    {
      "cell_type": "code",
      "source": [
        "feat_cols = ['CreditScore', 'Age', 'Tenure', \n",
        "               'Balance', 'NumOfProducts', 'HasCrCard',\n",
        "               'IsActiveMember', 'EstimatedSalary']\n",
        "targ_col = 'Exited'"
      ],
      "outputs": [],
      "execution_count": null,
      "metadata": {},
      "id": "scheduled-measure"
    },
    {
      "cell_type": "code",
      "source": [
        "X, y = df[feat_cols], df[targ_col]"
      ],
      "outputs": [],
      "execution_count": null,
      "metadata": {},
      "id": "junior-rating"
    },
    {
      "cell_type": "code",
      "source": [
        "y.mean()"
      ],
      "outputs": [],
      "execution_count": null,
      "metadata": {},
      "id": "c4d476a6"
    },
    {
      "cell_type": "code",
      "source": [
        "X_train, X_test, y_train, y_test = train_test_split(X, y, test_size=0.25, random_state=42)"
      ],
      "outputs": [],
      "execution_count": null,
      "metadata": {},
      "id": "historic-doubt"
    },
    {
      "cell_type": "code",
      "source": [
        "random_state = 42\n",
        "train_params = {'n_estimators': 100, 'max_depth': 10}\n",
        "\n",
        "clf = RandomForestClassifier(random_state=random_state, \n",
        "                            **train_params)\n",
        "model = Pipeline(\n",
        "    steps=[(\"preprocessor\", SimpleImputer()), (\"clf\", clf)]\n",
        "    )\n",
        "\n",
        "model.fit(X_train, y_train)"
      ],
      "outputs": [],
      "execution_count": null,
      "metadata": {},
      "id": "infinite-african"
    },
    {
      "cell_type": "code",
      "source": [
        "y_prob = model.predict_proba(X_test)\n",
        "y_pred = y_prob[:, 1] >= 0.5\n",
        "f1 = f1_score(y_test, y_pred)\n",
        "roc_auc = roc_auc_score(y_test, y_prob[:, 1])\n",
        "f1, roc_auc"
      ],
      "outputs": [],
      "execution_count": null,
      "metadata": {},
      "id": "12944f94"
    },
    {
      "cell_type": "code",
      "source": [
        "cm = confusion_matrix(y_test, y_pred, normalize='true') \n",
        "sns.heatmap(cm, annot=True, cmap=plt.cm.Blues)"
      ],
      "outputs": [],
      "execution_count": null,
      "metadata": {},
      "id": "4675491c"
    },
    {
      "cell_type": "code",
      "source": [
        "out_feat_names = model[:-1].get_feature_names_out(feat_cols)\n",
        "out_feat_names"
      ],
      "outputs": [],
      "execution_count": null,
      "metadata": {},
      "id": "9d8adf04"
    },
    {
      "cell_type": "code",
      "source": [
        "import eli5\n",
        "from sklearn.metrics import make_scorer\n",
        "from eli5.sklearn import PermutationImportance\n",
        "\n",
        "\n",
        "preprocessor = model.named_steps['preprocessor']\n",
        "clf = model.named_steps['clf']\n",
        "X_test_transformed = preprocessor.transform(X_test)\n",
        "\n",
        "perm = PermutationImportance(clf, scoring=make_scorer(f1_score), random_state=random_state).fit(X_test_transformed, y_test)\n",
        "eli5.show_weights(perm, feature_names=out_feat_names)"
      ],
      "outputs": [],
      "execution_count": null,
      "metadata": {},
      "id": "d9262a4f"
    },
    {
      "cell_type": "code",
      "source": [
        "feat_imp = zip(X_test.columns.tolist(), perm.feature_importances_)\n",
        "df_feat_imp = pd.DataFrame(feat_imp, \n",
        "                    columns=['feature', 'importance'])\n",
        "df_feat_imp = df_feat_imp.sort_values(by='importance', ascending=False)\n",
        "df_feat_imp"
      ],
      "outputs": [],
      "execution_count": null,
      "metadata": {},
      "id": "6e44b74c"
    },
    {
      "cell_type": "code",
      "source": [
        "feat_importance_fpath = 'feat_imp.csv'\n",
        "df_feat_imp.to_csv(feat_importance_fpath, index=False)"
      ],
      "outputs": [],
      "execution_count": null,
      "metadata": {},
      "id": "6d00dcf7"
    },
    {
      "cell_type": "code",
      "source": [
        "from joblib import dump\n",
        "\n",
        "dump(model, 'clf-model.joblib');"
      ],
      "outputs": [],
      "execution_count": null,
      "metadata": {},
      "id": "dac3462a"
    }
  ],
  "metadata": {
    "kernelspec": {
      "display_name": "Python 3.9.10 ('.venv': venv)",
      "language": "python",
      "name": "python3"
    },
    "language_info": {
      "codemirror_mode": {
        "name": "ipython",
        "version": 3
      },
      "file_extension": ".py",
      "mimetype": "text/x-python",
      "name": "python",
      "nbconvert_exporter": "python",
      "pygments_lexer": "ipython3",
      "version": "3.9.10"
    },
    "vscode": {
      "interpreter": {
        "hash": "060614c890ed22051a9be2360999a13d2882d827ad8c9dd21319e1709b800224"
      }
    },
    "nteract": {
      "version": "0.28.0"
    }
  },
  "nbformat": 4,
  "nbformat_minor": 5
}