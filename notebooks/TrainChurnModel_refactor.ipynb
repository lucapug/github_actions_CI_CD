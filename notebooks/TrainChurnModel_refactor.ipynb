{
 "cells": [
  {
   "cell_type": "code",
   "execution_count": null,
   "metadata": {},
   "outputs": [],
   "source": [
    "import os\n",
    "from pathlib import Path\n",
    "\n",
    "import matplotlib.pyplot as plt\n",
    "import pandas as pd\n",
    "import seaborn as sns\n",
    "from eli5.sklearn import PermutationImportance\n",
    "from joblib import dump\n",
    "from sklearn.ensemble import RandomForestClassifier\n",
    "from sklearn.impute import SimpleImputer\n",
    "from sklearn.metrics import (confusion_matrix, f1_score, make_scorer,\n",
    "                             roc_auc_score)\n",
    "from sklearn.model_selection import train_test_split\n",
    "from sklearn.pipeline import Pipeline"
   ]
  },
  {
   "cell_type": "code",
   "execution_count": null,
   "metadata": {},
   "outputs": [],
   "source": [
    "random_state = 42\n",
    "\n",
    "feat_cols = [\n",
    "    \"CreditScore\",\n",
    "    \"Age\",\n",
    "    \"Tenure\",\n",
    "    \"Balance\",\n",
    "    \"NumOfProducts\",\n",
    "    \"HasCrCard\",\n",
    "    \"IsActiveMember\",\n",
    "    \"EstimatedSalary\",\n",
    "]\n",
    "targ_col = \"Exited\"\n",
    "\n",
    "test_size = 0.25\n",
    "\n",
    "train_params = {\"n_estimators\": 100, \"max_depth\": 10}\n"
   ]
  },
  {
   "cell_type": "code",
   "execution_count": null,
   "metadata": {},
   "outputs": [],
   "source": [
    "proj_path = Path(os.getcwd()).parent.absolute()\n",
    "data_file_paths = [\n",
    "    proj_path / \"data\" / \"raw\" / f\"Churn_Modelling_{country}.csv\"\n",
    "    for country in [\"Spain\", \"France\"]\n",
    "]\n"
   ]
  },
  {
   "cell_type": "code",
   "execution_count": null,
   "metadata": {},
   "outputs": [],
   "source": [
    "def data_split():\n",
    "    df = pd.concat([pd.read_csv(fpath) for fpath in data_file_paths])\n",
    "    X, y = df[feat_cols], df[targ_col]\n",
    "    X_train, X_test, y_train, y_test = train_test_split(\n",
    "        X, y, test_size=test_size, random_state=random_state\n",
    "    )\n",
    "\n",
    "    return X_train, X_test, y_train, y_test\n",
    "\n",
    "\n",
    "X_train, X_test, y_train, y_test = data_split()\n"
   ]
  },
  {
   "cell_type": "code",
   "execution_count": null,
   "metadata": {},
   "outputs": [],
   "source": [
    "def train():\n",
    "    clf = RandomForestClassifier(random_state=random_state, **train_params)\n",
    "    model = Pipeline(steps=[(\"preprocessor\", SimpleImputer()), (\"clf\", clf)])\n",
    "\n",
    "    model.fit(X_train, y_train)\n",
    "    return model\n",
    "\n",
    "\n",
    "model = train()\n"
   ]
  },
  {
   "cell_type": "code",
   "execution_count": null,
   "metadata": {},
   "outputs": [],
   "source": [
    "models_dir = proj_path / \"models\"\n",
    "models_dir.mkdir(exist_ok=True)\n",
    "\n",
    "dump(model, models_dir / \"clf-model.joblib\")\n"
   ]
  },
  {
   "cell_type": "code",
   "execution_count": null,
   "metadata": {},
   "outputs": [],
   "source": [
    "def eval():\n",
    "    y_prob = model.predict_proba(X_test)\n",
    "    y_pred = y_prob[:, 1] >= 0.5\n",
    "    f1 = f1_score(y_test, y_pred)\n",
    "    roc_auc = roc_auc_score(y_test, y_prob[:, 1])\n",
    "    # f1, roc_auc\n",
    "\n",
    "    reports_dir = proj_path / \"reports\"\n",
    "    reports_dir.mkdir(exist_ok=True)\n",
    "    fig_dir = reports_dir / \"figures\"\n",
    "    fig_dir.mkdir(exist_ok=True)\n",
    "\n",
    "    cm = confusion_matrix(y_test, y_pred, normalize=\"true\")\n",
    "    sns.heatmap(cm, annot=True, cmap=plt.cm.Blues)\n",
    "    plt.savefig(fig_dir / \"cm.png\")\n",
    "\n",
    "    out_feat_names = model[:-1].get_feature_names_out(feat_cols)\n",
    "    # out_feat_names\n",
    "\n",
    "    preprocessor = model.named_steps[\"preprocessor\"]\n",
    "    clf = model.named_steps[\"clf\"]\n",
    "    X_test_transformed = preprocessor.transform(X_test)\n",
    "\n",
    "    perm = PermutationImportance(\n",
    "        clf, scoring=make_scorer(f1_score), random_state=random_state\n",
    "    ).fit(X_test_transformed, y_test)\n",
    "    # eli5.show_weights(perm, feature_names=out_feat_names)\n",
    "\n",
    "    feat_imp = zip(X_test.columns.tolist(), perm.feature_importances_)\n",
    "    df_feat_imp = pd.DataFrame(feat_imp, columns=[\"feature\", \"importance\"])\n",
    "    df_feat_imp = df_feat_imp.sort_values(by=\"importance\", ascending=False)\n",
    "    feat_importance_fpath = reports_dir / \"feat_imp.csv\"\n",
    "    df_feat_imp.to_csv(feat_importance_fpath, index=False)\n",
    "\n",
    "\n",
    "eval()\n"
   ]
  }
 ],
 "metadata": {
  "kernelspec": {
   "display_name": ".venv",
   "language": "python",
   "name": "python3"
  },
  "language_info": {
   "codemirror_mode": {
    "name": "ipython",
    "version": 3
   },
   "file_extension": ".py",
   "mimetype": "text/x-python",
   "name": "python",
   "nbconvert_exporter": "python",
   "pygments_lexer": "ipython3",
   "version": "3.8.10"
  },
  "orig_nbformat": 4
 },
 "nbformat": 4,
 "nbformat_minor": 2
}
